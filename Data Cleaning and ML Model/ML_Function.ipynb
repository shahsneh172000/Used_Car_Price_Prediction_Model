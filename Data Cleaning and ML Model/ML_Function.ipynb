{
 "cells": [
  {
   "cell_type": "code",
   "execution_count": 10,
   "metadata": {},
   "outputs": [],
   "source": [
    "import joblib \n",
    "import numpy as np\n",
    "import pandas as pd\n",
    "from sklearn.preprocessing import StandardScaler\n",
    "from sklearn.model_selection import train_test_split"
   ]
  },
  {
   "cell_type": "code",
   "execution_count": 11,
   "metadata": {},
   "outputs": [],
   "source": [
    "model = joblib.load(\"usedcar_ml_model2.pkl\")\n",
    "df = pd.read_csv(\"clean_train_data.csv\")\n",
    "del df['Unnamed: 0']\n",
    "x = df.drop(\"Price\",axis=1)\n",
    "y = df['Price']"
   ]
  },
  {
   "cell_type": "code",
   "execution_count": 12,
   "metadata": {},
   "outputs": [
    {
     "data": {
      "text/plain": [
       "((4048, 113), (4048,), (1012, 113), (1012,))"
      ]
     },
     "execution_count": 12,
     "metadata": {},
     "output_type": "execute_result"
    }
   ],
   "source": [
    "x_train,x_test,y_train,y_test = train_test_split(x,y,test_size=0.2,random_state=51)\n",
    "\n",
    "x_train.shape,y_train.shape,x_test.shape,y_test.shape"
   ]
  },
  {
   "cell_type": "code",
   "execution_count": 13,
   "metadata": {},
   "outputs": [],
   "source": [
    "sc = StandardScaler()\n",
    "sc.fit(x_train)\n",
    "x_train = sc.transform(x_train)\n",
    "x_test = sc.transform(x_test)"
   ]
  },
  {
   "cell_type": "code",
   "execution_count": 14,
   "metadata": {},
   "outputs": [
    {
     "data": {
      "text/plain": [
       "(5060, 114)"
      ]
     },
     "execution_count": 14,
     "metadata": {},
     "output_type": "execute_result"
    }
   ],
   "source": [
    "df.shape"
   ]
  },
  {
   "cell_type": "code",
   "execution_count": 15,
   "metadata": {},
   "outputs": [],
   "source": [
    "def car_price(year,km,seats,mileage,eng,power,location,brand,mod,fuel,trans,owner):\n",
    "    index_list = []\n",
    "    arr = np.zeros(113)\n",
    "\n",
    "    arr[0] = year\n",
    "    arr[1] = km\n",
    "    arr[2] = seats\n",
    "    arr[3] = mileage\n",
    "    arr[4] = eng\n",
    "    arr[5] = power\n",
    "\n",
    "    if \"Location_\" + location in x.columns:\n",
    "        index = np.where(x.columns == \"Location_\"+location)[0][0]\n",
    "        arr[index] = 1\n",
    "        index_list.append((index,\"loc\"))\n",
    "\n",
    "    if \"Brand_\" + brand in x.columns:\n",
    "        index = np.where(x.columns == \"Brand_\" + brand)[0][0]\n",
    "        arr[index] = 1\n",
    "        index_list.append((index,\"brand\"))\n",
    "\n",
    "    if \"Model_\" + mod in x.columns:\n",
    "        index = np.where(x.columns == \"Model_\" + mod)[0][0]\n",
    "        arr[index] = 1\n",
    "        index_list.append((index,\"mod\"))\n",
    "\n",
    "    if \"Fuel_Type_\" + fuel in x.columns:\n",
    "        index = np.where(x.columns == \"Fuel_Type_\" + fuel)[0][0]\n",
    "        arr[index] = 1\n",
    "        index_list.append((index,\"fuel\"))\n",
    "\n",
    "    if \"Transmission_\" + trans in x.columns:\n",
    "        index = np.where(x.columns == \"Transmission_\" + trans)[0][0]\n",
    "        arr[index] = 1\n",
    "        index_list.append((index,\"trans\"))\n",
    "\n",
    "    if \"Owner_Type_\" + owner in x.columns:\n",
    "        index = np.where(x.columns == \"Owner_Type_\" + owner)[0][0]\n",
    "        arr[index] = 1\n",
    "        index_list.append((index,\"owner\"))\n",
    "\n",
    "    arr = sc.transform([arr])[0]\n",
    "    return model.predict([arr])[0]"
   ]
  },
  {
   "cell_type": "code",
   "execution_count": 16,
   "metadata": {},
   "outputs": [
    {
     "data": {
      "text/plain": [
       "12.447200000000004"
      ]
     },
     "execution_count": 16,
     "metadata": {},
     "output_type": "execute_result"
    }
   ],
   "source": [
    "car_price(2015,41000,5,19.67,1586,126.2,\"Pune\",\"Hyundai\",\"Creta\",\"Diesel\",\"Automatic\",\"First\")\n",
    "#12.5"
   ]
  },
  {
   "cell_type": "code",
   "execution_count": 17,
   "metadata": {},
   "outputs": [
    {
     "data": {
      "text/plain": [
       "1.8629999999999998"
      ]
     },
     "execution_count": 17,
     "metadata": {},
     "output_type": "execute_result"
    }
   ],
   "source": [
    "car_price(2010,72000,5,26.6,998,58.16,\"Mumbai\",\"Maruti\",\"Swift\",\"Petrol\",\"Manual\",\"First\")\n",
    "#1.91"
   ]
  },
  {
   "cell_type": "code",
   "execution_count": 9,
   "metadata": {},
   "outputs": [
    {
     "data": {
      "text/plain": [
       "16.189100000000003"
      ]
     },
     "execution_count": 9,
     "metadata": {},
     "output_type": "execute_result"
    }
   ],
   "source": [
    "car_price(2013,40670,5,17.74,1968,140.8,\"Coimbatore\",\"Audi\",\"A4\",\"Diesel\",\"Automatic\",\"Second\")\n",
    "#16."
   ]
  },
  {
   "cell_type": "code",
   "execution_count": 10,
   "metadata": {},
   "outputs": [
    {
     "data": {
      "text/plain": [
       "2.4532999999999987"
      ]
     },
     "execution_count": 10,
     "metadata": {},
     "output_type": "execute_result"
    }
   ],
   "source": [
    "car_price(2016,178000,5,25,1396,69,\"Chennai\",\"Tata\",\"Indica\",\"Diesel\",\"Manual\",\"First\")\n",
    "# 2.5"
   ]
  },
  {
   "cell_type": "code",
   "execution_count": 15,
   "metadata": {},
   "outputs": [
    {
     "data": {
      "text/plain": [
       "38.972799999999964"
      ]
     },
     "execution_count": 15,
     "metadata": {},
     "output_type": "execute_result"
    }
   ],
   "source": [
    "car_price(2018,29161,5,19.27,2143,167.62,\"Coimbatore\",\"Mercedes-Benz\",\"New C-Class\",\"Diesel\",\"Automatic\",\"First\")\n",
    "#39.41"
   ]
  },
  {
   "cell_type": "code",
   "execution_count": 42,
   "metadata": {},
   "outputs": [],
   "source": [
    "df2 = pd.read_csv(\"new_clean_data.csv\")"
   ]
  },
  {
   "cell_type": "code",
   "execution_count": 19,
   "metadata": {},
   "outputs": [
    {
     "data": {
      "text/plain": [
       "8.7722"
      ]
     },
     "execution_count": 19,
     "metadata": {},
     "output_type": "execute_result"
    }
   ],
   "source": [
    "car_price(2022,0,5,23.2,1197,88.5,\"Mumbai\",\"Maruti\",\"Swift\",\"Petrol\",\"Manual\",\"First\")"
   ]
  }
 ],
 "metadata": {
  "kernelspec": {
   "display_name": "Python 3",
   "language": "python",
   "name": "python3"
  },
  "language_info": {
   "codemirror_mode": {
    "name": "ipython",
    "version": 3
   },
   "file_extension": ".py",
   "mimetype": "text/x-python",
   "name": "python",
   "nbconvert_exporter": "python",
   "pygments_lexer": "ipython3",
   "version": "3.8.5"
  }
 },
 "nbformat": 4,
 "nbformat_minor": 4
}
